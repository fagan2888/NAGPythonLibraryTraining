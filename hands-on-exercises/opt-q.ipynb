{
 "cells": [
  {
   "cell_type": "markdown",
   "metadata": {},
   "source": [
    "![title](../nag_logo.png)\n",
    "\n",
    "# Exercises - Optimization\n",
    "\n",
    "## Univariate functions\n",
    "\n",
    "We wish to minimize a simple function of one variable using a NAG optimizer\n",
    "\n",
    "Interfaces to the NAG Library are provided in the `naginterfaces.library` subpackage\n",
    "\n",
    "One can see from the HTML documentation [here](https://www.nag.com/numeric/py/nagdoc_latest/naginterfaces.library.html) that the relevant algorithmic submodule for (local) optimization is `opt`.\n",
    "\n",
    "Studying the `opt` Functionality Index confirms that a suitable optimization solver to call is `one_var_func`. The HTML documentation for this solver is [here](https://www.nag.com/numeric/py/nagdoc_latest/naginterfaces.library.opt.html#naginterfaces.library.opt.one_var_func.)\n",
    "\n",
    "Write a program to find the minimum of the function $x^2 + 3x - 5$ using `one_var_func`. Assume that the required minimum lies in the range $[-6.0,4.0]$.\n"
   ]
  },
  {
   "cell_type": "markdown",
   "metadata": {},
   "source": [
    "Extract the optimum identified by `one_var_func` and display it on the plot below."
   ]
  },
  {
   "cell_type": "code",
   "execution_count": 15,
   "metadata": {},
   "outputs": [
    {
     "data": {
      "image/png": "[encoded data removed]",
      "text/plain": [
       "<Figure size 432x288 with 1 Axes>"
      ]
     },
     "metadata": {
      "needs_background": "light"
     },
     "output_type": "display_data"
    }
   ],
   "source": [
    "import matplotlib.pyplot as plt\n",
    "import numpy as np\n",
    "x = np.linspace(-6.0, 4.0, 30)\n",
    "y = f(x)\n",
    "plt.plot(x, y, color='r', linewidth=0.75)\n",
    "\n",
    "##################################################\n",
    "# add extraction and plotting of optimum here\n",
    "##################################################\n",
    "\n",
    "plt.xlabel('X')\n",
    "plt.ylabel('Y')\n",
    "plt.title('$f(x) = x^2 + 3x - 5$')\n",
    "#plt.legend(loc='upper left')\n",
    "plt.show();"
   ]
  },
  {
   "cell_type": "markdown",
   "metadata": {},
   "source": [
    "## Multivariate functions - no user supplied derivatives\n",
    "\n",
    "Consider the following function\n",
    "$$ g(x,y)= \\sin(3y-x^2+1) + \\cos(2y^2-2x), $$\n",
    "subject to the following constraints:\n",
    "$$ -2 \\leq x \\leq 1, -1 \\leq y \\leq 1. $$\n",
    "Make a contour plot of the function and constraints, and estimate the minimum. Using the decision tree in the [E04 chapter introduction](https://www.nag.co.uk/numeric/fl/nagdoc_latest/html/e04/e04intro.html), find a suitable easy-to-use routine to solve this problem. How does the starting point vary the solution? Do you always get the correct one?\n",
    "\n",
    "Note: in the NAG documentation constraints are classified into (i) simple bounds, (ii) linear constraints, (iii) nonlinear constraints.  Simple bounds are a special case of linear constraints, and linear constraints are a special case of nonlinear constraints.  However if the only constraints on a problem are simple bounds, then we say that the problem has no linear or nonlinear constraints."
   ]
  },
  {
   "cell_type": "markdown",
   "metadata": {},
   "source": [
    "## Multivariate functions - user supplied gradient\n",
    "\n",
    "The derivatives of f(x) are:\n",
    "$$\\begin{aligned}\n",
    "\\frac{\\partial g}{\\partial x} &= 2\\big(\\sin(2y^2-2x) - x \\cos(3y-x^2+1)\\big)\\\\\n",
    "\\frac{\\partial g}{\\partial y} &= 3 \\cos(3y-x^2+1) - 4y(\\sin(2y^2-2x))\n",
    "\\end{aligned}$$\n",
    "Now solve the problem again using an appropriate routine. Is there a performance advantage? How does the time to solution vary with the starting point?\n",
    "Pay attention to any error messages.\n",
    "\n"
   ]
  },
  {
   "cell_type": "markdown",
   "metadata": {},
   "source": [
    "## Global optimization\n",
    "\n",
    "Using the guidance in the [E05 chapter introduction](https://www.nag.co.uk/numeric/fl/nagdoc_latest/html/e05/e05intro.html) find a global optimization routine to identify the minimum of the objective function from the previous exercise."
   ]
  }
 ],
 "metadata": {
  "kernelspec": {
   "display_name": "Python 3",
   "language": "python",
   "name": "python3"
  },
  "language_info": {
   "codemirror_mode": {
    "name": "ipython",
    "version": 3
   },
   "file_extension": ".py",
   "mimetype": "text/x-python",
   "name": "python",
   "nbconvert_exporter": "python",
   "pygments_lexer": "ipython3",
   "version": "3.7.1"
  }
 },
 "nbformat": 4,
 "nbformat_minor": 2
}
